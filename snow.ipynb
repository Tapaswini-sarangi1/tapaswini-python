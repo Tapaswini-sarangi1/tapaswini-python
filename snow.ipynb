{
 "cells": [
  {
   "cell_type": "code",
   "execution_count": 9,
   "metadata": {},
   "outputs": [
    {
     "name": "stdout",
     "output_type": "stream",
     "text": [
      "Data loaded sucesfully in SQL\n"
     ]
    }
   ],
   "source": [
    "#Need to install requests package for python\n",
    "#easy_install requests\n",
    "import requests\n",
    "\n",
    "# Set the request parameters\n",
    "url = 'https://dev98052.service-now.com/api/now/table/incident?sysparm_fields=number&sysparm_limit=100'\n",
    "\n",
    "# Eg. User name=\"admin\", Password=\"admin\" for this code sample.\n",
    "user = 'admin'\n",
    "pwd = 'Sunu@13579'\n",
    "\n",
    "# Set proper headers\n",
    "headers = {\"Content-Type\":\"application/xml\",\"Accept\":\"application/json\"}\n",
    "\n",
    "# Do the HTTP request\n",
    "response = requests.get(url, auth=(user, pwd), headers=headers )\n",
    "\n",
    "# Check for HTTP codes other than 200\n",
    "if response.status_code != 200: \n",
    "    print('Status:', response.status_code, 'Headers:', response.headers, 'Error Response:',response.json())\n",
    "    exit()\n",
    "\n",
    "# Decode the JSON response into a dictionary and use the data\n",
    "data = response.json()\n",
    "#print(data)\n",
    "\n",
    "#############################################Database related code below ################################\n",
    "\n",
    "import pyodbc \n",
    "conn = pyodbc.connect('Driver={SQL Server};'\n",
    "                      'Server=PRANGYA\\SQLEXPRESS;'\n",
    "                      'Database=mydatabase;'\n",
    "                      'Trusted_Connection=yes;')\n",
    "\n",
    "cursor = conn.cursor()\n",
    "#first time create table\n",
    "cursor.execute('drop table snow')\n",
    "cursor.execute('create table snow (incident_number varchar(max))')\n",
    "\n",
    "\n",
    "#insert data\n",
    "subDict = data['result']\n",
    "#print(subDict)\n",
    "for value in subDict:\n",
    "    #print(value['number'])\n",
    "    cursor.execute(\"insert into snow(incident_number) values (?)\",value['number'])\n",
    "    conn.commit()\n",
    "\n",
    "       \n",
    "cursor.close()    \n",
    "conn.close()\n",
    "\n",
    "print(\"Data loaded sucesfully in SQL\")"
   ]
  },
  {
   "cell_type": "code",
   "execution_count": null,
   "metadata": {},
   "outputs": [],
   "source": []
  }
 ],
 "metadata": {
  "kernelspec": {
   "display_name": "Python 3",
   "language": "python",
   "name": "python3"
  },
  "language_info": {
   "codemirror_mode": {
    "name": "ipython",
    "version": 3
   },
   "file_extension": ".py",
   "mimetype": "text/x-python",
   "name": "python",
   "nbconvert_exporter": "python",
   "pygments_lexer": "ipython3",
   "version": "3.7.4"
  }
 },
 "nbformat": 4,
 "nbformat_minor": 2
}
